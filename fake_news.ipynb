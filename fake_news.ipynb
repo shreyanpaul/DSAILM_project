{
  "cells": [
    {
      "cell_type": "markdown",
      "metadata": {
        "id": "D_EZoEISke5d"
      },
      "source": [
        "Importing the dependencies"
      ]
    },
    {
      "cell_type": "code",
      "execution_count": null,
      "metadata": {
        "id": "mmFKmGduh6s1"
      },
      "outputs": [],
      "source": [
        "import pandas as pd\n",
        "import numpy as np\n",
        "import re\n",
        "from matplotlib import pyplot as plt\n",
        "import seaborn as sns\n",
        "%matplotlib inline\n",
        "\n",
        "import nltk\n",
        "from nltk.corpus import stopwords\n",
        "from nltk.stem.porter import PorterStemmer\n",
        "\n",
        "from sklearn.feature_extraction.text import TfidfVectorizer\n",
        "from sklearn.feature_extraction.text import CountVectorizer\n",
        "from sklearn.feature_extraction.text import TfidfTransformer\n",
        "\n",
        "from sklearn.model_selection import train_test_split, cross_val_score\n",
        "from sklearn.metrics import confusion_matrix, classification_report, roc_curve, auc, RocCurveDisplay\n",
        "from sklearn.linear_model import LogisticRegression\n",
        "from sklearn.ensemble import RandomForestClassifier\n",
        "from sklearn.tree import DecisionTreeClassifier\n",
        "from sklearn.neighbors import KNeighborsClassifier\n",
        "from sklearn.svm import SVC\n",
        "from sklearn.naive_bayes import MultinomialNB\n",
        "import warnings\n",
        "warnings.filterwarnings(\"ignore\")"
      ]
    },
    {
      "cell_type": "code",
      "source": [
        "from google.colab import drive\n",
        "drive.mount('/content/drive')"
      ],
      "metadata": {
        "colab": {
          "base_uri": "https://localhost:8080/"
        },
        "id": "J7_Cw11h7VVf",
        "outputId": "5c5876ac-6ff2-4b0a-e154-9ef25daf55ed"
      },
      "execution_count": null,
      "outputs": [
        {
          "output_type": "stream",
          "name": "stdout",
          "text": [
            "Mounted at /content/drive\n"
          ]
        }
      ]
    },
    {
      "cell_type": "code",
      "execution_count": null,
      "metadata": {
        "id": "bawTG1ERjALR",
        "colab": {
          "base_uri": "https://localhost:8080/"
        },
        "outputId": "2d557623-4879-4512-eef9-6902a341e41d"
      },
      "outputs": [
        {
          "output_type": "stream",
          "name": "stderr",
          "text": [
            "[nltk_data] Downloading package stopwords to /root/nltk_data...\n",
            "[nltk_data]   Unzipping corpora/stopwords.zip.\n"
          ]
        },
        {
          "output_type": "execute_result",
          "data": {
            "text/plain": [
              "True"
            ]
          },
          "metadata": {},
          "execution_count": 3
        }
      ],
      "source": [
        "nltk.download('stopwords')"
      ]
    },
    {
      "cell_type": "code",
      "execution_count": null,
      "metadata": {
        "id": "jmnEMBdDjCUP",
        "colab": {
          "base_uri": "https://localhost:8080/"
        },
        "outputId": "a9362837-8700-4b61-8281-ba03707c41e4"
      },
      "outputs": [
        {
          "output_type": "stream",
          "name": "stdout",
          "text": [
            "['a', 'about', 'above', 'after', 'again', 'against', 'ain', 'all', 'am', 'an', 'and', 'any', 'are', 'aren', \"aren't\", 'as', 'at', 'be', 'because', 'been', 'before', 'being', 'below', 'between', 'both', 'but', 'by', 'can', 'couldn', \"couldn't\", 'd', 'did', 'didn', \"didn't\", 'do', 'does', 'doesn', \"doesn't\", 'doing', 'don', \"don't\", 'down', 'during', 'each', 'few', 'for', 'from', 'further', 'had', 'hadn', \"hadn't\", 'has', 'hasn', \"hasn't\", 'have', 'haven', \"haven't\", 'having', 'he', \"he'd\", \"he'll\", 'her', 'here', 'hers', 'herself', \"he's\", 'him', 'himself', 'his', 'how', 'i', \"i'd\", 'if', \"i'll\", \"i'm\", 'in', 'into', 'is', 'isn', \"isn't\", 'it', \"it'd\", \"it'll\", \"it's\", 'its', 'itself', \"i've\", 'just', 'll', 'm', 'ma', 'me', 'mightn', \"mightn't\", 'more', 'most', 'mustn', \"mustn't\", 'my', 'myself', 'needn', \"needn't\", 'no', 'nor', 'not', 'now', 'o', 'of', 'off', 'on', 'once', 'only', 'or', 'other', 'our', 'ours', 'ourselves', 'out', 'over', 'own', 're', 's', 'same', 'shan', \"shan't\", 'she', \"she'd\", \"she'll\", \"she's\", 'should', 'shouldn', \"shouldn't\", \"should've\", 'so', 'some', 'such', 't', 'than', 'that', \"that'll\", 'the', 'their', 'theirs', 'them', 'themselves', 'then', 'there', 'these', 'they', \"they'd\", \"they'll\", \"they're\", \"they've\", 'this', 'those', 'through', 'to', 'too', 'under', 'until', 'up', 've', 'very', 'was', 'wasn', \"wasn't\", 'we', \"we'd\", \"we'll\", \"we're\", 'were', 'weren', \"weren't\", \"we've\", 'what', 'when', 'where', 'which', 'while', 'who', 'whom', 'why', 'will', 'with', 'won', \"won't\", 'wouldn', \"wouldn't\", 'y', 'you', \"you'd\", \"you'll\", 'your', \"you're\", 'yours', 'yourself', 'yourselves', \"you've\"]\n"
          ]
        }
      ],
      "source": [
        "print (stopwords.words('english'))"
      ]
    },
    {
      "cell_type": "markdown",
      "metadata": {
        "id": "srmEnvhxkn97"
      },
      "source": [
        "Exploratory Data Analysis"
      ]
    },
    {
      "cell_type": "code",
      "execution_count": null,
      "metadata": {
        "id": "LD5sbR77AvBm"
      },
      "outputs": [],
      "source": [
        "# Load the datasets\n",
        "fake_df = pd.read_csv('Fake.csv')\n",
        "true_df = pd.read_csv('True.csv')"
      ]
    },
    {
      "cell_type": "code",
      "execution_count": null,
      "metadata": {
        "id": "mdSoLFqUA1WB"
      },
      "outputs": [],
      "source": [
        "# Add labels to identify classes\n",
        "fake_df['label'] = 'FAKE'\n",
        "true_df['label'] = 'TRUE'"
      ]
    },
    {
      "cell_type": "code",
      "execution_count": null,
      "metadata": {
        "id": "vRwPmzTgA9PP"
      },
      "outputs": [],
      "source": [
        "# Merge the datasets\n",
        "news = pd.concat([fake_df, true_df], axis=0).reset_index(drop=True)"
      ]
    },
    {
      "cell_type": "code",
      "execution_count": null,
      "metadata": {
        "id": "DG4OS9SoBAtn"
      },
      "outputs": [],
      "source": [
        "# Shuffle the combined dataset\n",
        "news = news.sample(frac=1, random_state=42).reset_index(drop=True)"
      ]
    },
    {
      "cell_type": "code",
      "execution_count": null,
      "metadata": {
        "id": "vpg5xxvgBDVE"
      },
      "outputs": [],
      "source": [
        "# Save the new dataset\n",
        "news.to_csv('news.csv', index=False)"
      ]
    },
    {
      "cell_type": "code",
      "execution_count": null,
      "metadata": {
        "id": "2NKFtMVqBF32",
        "colab": {
          "base_uri": "https://localhost:8080/"
        },
        "outputId": "130cefba-8825-44b1-c53c-f1a8f2e23d43"
      },
      "outputs": [
        {
          "output_type": "stream",
          "name": "stdout",
          "text": [
            "Merged dataset shape: (44898, 5)\n",
            "                                               title  \\\n",
            "0  Ben Stein Calls Out 9th Circuit Court: Committ...   \n",
            "1  Trump drops Steve Bannon from National Securit...   \n",
            "2  Puerto Rico expects U.S. to lift Jones Act shi...   \n",
            "3   OOPS: Trump Just Accidentally Confirmed He Le...   \n",
            "4  Donald Trump heads for Scotland to reopen a go...   \n",
            "\n",
            "                                                text       subject  \\\n",
            "0  21st Century Wire says Ben Stein, reputable pr...       US_News   \n",
            "1  WASHINGTON (Reuters) - U.S. President Donald T...  politicsNews   \n",
            "2  (Reuters) - Puerto Rico Governor Ricardo Rosse...  politicsNews   \n",
            "3  On Monday, Donald Trump once again embarrassed...          News   \n",
            "4  GLASGOW, Scotland (Reuters) - Most U.S. presid...  politicsNews   \n",
            "\n",
            "                  date label  \n",
            "0    February 13, 2017  FAKE  \n",
            "1       April 5, 2017   TRUE  \n",
            "2  September 27, 2017   TRUE  \n",
            "3         May 22, 2017  FAKE  \n",
            "4       June 24, 2016   TRUE  \n"
          ]
        }
      ],
      "source": [
        "print(\"Merged dataset shape:\", news.shape)\n",
        "print(news.head())"
      ]
    },
    {
      "cell_type": "code",
      "execution_count": null,
      "metadata": {
        "id": "q6is9w9uBymL"
      },
      "outputs": [],
      "source": [
        "# First split: Train (70%) and Temp (30%)\n",
        "train_data, temp_data = train_test_split(news, test_size=0.3, random_state=42, stratify=news['label'])"
      ]
    },
    {
      "cell_type": "code",
      "execution_count": null,
      "metadata": {
        "id": "d6pjsF9MChRq"
      },
      "outputs": [],
      "source": [
        "# Second split: Validation (15%) and Test (15%) from Temp\n",
        "val_data, test_data = train_test_split(temp_data, test_size=0.5, random_state=42, stratify=temp_data['label'])"
      ]
    },
    {
      "cell_type": "code",
      "execution_count": null,
      "metadata": {
        "colab": {
          "base_uri": "https://localhost:8080/"
        },
        "id": "a8nbLTBVClKW",
        "outputId": "b48c74dd-4e05-4ee0-e1de-85186a02d805"
      },
      "outputs": [
        {
          "output_type": "stream",
          "name": "stdout",
          "text": [
            "✅ Full dataset shape: (44898, 5)\n",
            "✅ Train shape: (31428, 5)\n",
            "✅ Validation shape: (6735, 5)\n",
            "✅ Test shape: (6735, 5)\n"
          ]
        }
      ],
      "source": [
        "# Save all sets\n",
        "train_data.to_csv('news_train.csv', index=False)\n",
        "val_data.to_csv('news_val.csv', index=False)\n",
        "test_data.to_csv('news_test.csv', index=False)\n",
        "\n",
        "print(\"✅ Full dataset shape:\", news.shape)\n",
        "print(\"✅ Train shape:\", train_data.shape)\n",
        "print(\"✅ Validation shape:\", val_data.shape)\n",
        "print(\"✅ Test shape:\", test_data.shape)"
      ]
    },
    {
      "cell_type": "markdown",
      "metadata": {
        "id": "gnurzBz5kzOg"
      },
      "source": [
        "Data Pre-processing"
      ]
    },
    {
      "cell_type": "code",
      "execution_count": null,
      "metadata": {
        "colab": {
          "base_uri": "https://localhost:8080/"
        },
        "id": "tqOSRcGfEnRq",
        "outputId": "1127195f-7fb8-4f86-a250-bd2dd6ca08bb"
      },
      "outputs": [
        {
          "output_type": "stream",
          "name": "stdout",
          "text": [
            "\n",
            "Null values in Train:\n",
            "title      0\n",
            "text       0\n",
            "subject    0\n",
            "date       0\n",
            "label      0\n",
            "dtype: int64\n",
            "\n",
            "Null values in Validation:\n",
            "title      0\n",
            "text       0\n",
            "subject    0\n",
            "date       0\n",
            "label      0\n",
            "dtype: int64\n",
            "\n",
            "Null values in Test:\n",
            "title      0\n",
            "text       0\n",
            "subject    0\n",
            "date       0\n",
            "label      0\n",
            "dtype: int64\n",
            "\n",
            " Shapes -> Full: (44898, 5)  Train: (31428, 5)  Val: (6735, 5)  Test: (6735, 5)\n"
          ]
        }
      ],
      "source": [
        "# Check for null values in each split\n",
        "print(\"\\nNull values in Train:\")\n",
        "print(train_data.isnull().sum())\n",
        "\n",
        "print(\"\\nNull values in Validation:\")\n",
        "print(val_data.isnull().sum())\n",
        "\n",
        "print(\"\\nNull values in Test:\")\n",
        "print(test_data.isnull().sum())\n",
        "\n",
        "# Save all sets\n",
        "train_data.to_csv('news_train.csv', index=False)\n",
        "val_data.to_csv('news_val.csv', index=False)\n",
        "test_data.to_csv('news_test.csv', index=False)\n",
        "\n",
        "print(\"\\n Shapes -> Full:\", news.shape, \" Train:\", train_data.shape, \" Val:\", val_data.shape, \" Test:\", test_data.shape)"
      ]
    },
    {
      "cell_type": "code",
      "execution_count": null,
      "metadata": {
        "id": "K2zsQRMBI1wB"
      },
      "outputs": [],
      "source": [
        "train_data['content'] = train_data['title'] + ' ' + train_data['text']\n",
        "val_data['content'] = val_data['title'] + ' ' + val_data['text']\n",
        "test_data['content'] = test_data['title'] + ' ' + test_data['text']"
      ]
    },
    {
      "cell_type": "code",
      "execution_count": null,
      "metadata": {
        "colab": {
          "base_uri": "https://localhost:8080/"
        },
        "id": "L-RM4GwVI8GC",
        "outputId": "b2de3758-5076-4502-df9d-f93862f8e04b"
      },
      "outputs": [
        {
          "output_type": "stream",
          "name": "stdout",
          "text": [
            "19260    “DIFFICULT” CHELSEA CLINTON CAUSES HIGH TURNOV...\n",
            "27504     Melania Gives Up On Cyberbullying After Trump...\n",
            "16399    Iranian general, Assad discuss joint military ...\n",
            "6204     Britain will meet its Brexit financial obligat...\n",
            "22111    IF OBAMA HAD A DAUGHTER: [VIDEO] #BlackLivesMa...\n",
            "                               ...                        \n",
            "42682     Lying Liar Behind ‘Baby Parts’ Videos Rejects...\n",
            "647       The Internet Wrecks Tomi Lahren For Halloween...\n",
            "26849    “BIKERS FOR TRUMP” Vow To Defend Trump During ...\n",
            "39208    U.S. ELECTIONS May Already Be In Serious Jeopa...\n",
            "2449     Argentina fires head of navy over submarine tr...\n",
            "Name: content, Length: 6735, dtype: object\n"
          ]
        }
      ],
      "source": [
        "print(val_data['content'])"
      ]
    },
    {
      "cell_type": "code",
      "execution_count": null,
      "metadata": {
        "colab": {
          "base_uri": "https://localhost:8080/"
        },
        "id": "jY8wC3P3jWrY",
        "outputId": "de2fef30-4bc4-46cd-fbff-1a39302ffd22"
      },
      "outputs": [
        {
          "output_type": "stream",
          "name": "stdout",
          "text": [
            "20688    LOL! PRINCE of Country Who Gave Hillary $50 Mi...\n",
            "5984     BREAKING: FLAG DRAGGING PROTESTER WHO RUSHED S...\n",
            "31917     Trump’s ‘Illegal Votes’ Lie Just Turned The W...\n",
            "36588    STANDING OVATION! NIGEL FARAGE TROLLS CNN Duri...\n",
            "23273    New Russian ambassador to U.S. calls for resum...\n",
            "                               ...                        \n",
            "9433     German minister upsets fellow conservatives ov...\n",
            "3460     U.S. judge rejects bid to dismiss Indonesian i...\n",
            "16992    OBAMA’S GAL PAL Loretta Lynch WON’T RECUSE HER...\n",
            "41610    Hungary's opposition Socialists lose PM candid...\n",
            "19530     Teacher Resigns After Being Caught Knocking S...\n",
            "Name: content, Length: 31428, dtype: object\n"
          ]
        }
      ],
      "source": [
        "print(train_data['content'])"
      ]
    },
    {
      "cell_type": "code",
      "execution_count": null,
      "metadata": {
        "colab": {
          "base_uri": "https://localhost:8080/"
        },
        "id": "_amdB6Y6jZBp",
        "outputId": "96fbfcd7-e70a-4d5a-8488-d6bcc43727a2"
      },
      "outputs": [
        {
          "output_type": "stream",
          "name": "stdout",
          "text": [
            "21911    MEET THE NASTY WOMEN Responsible For Promoting...\n",
            "38668    WOW! Watch Side By Side Comparison Of Hillary’...\n",
            "2633      Top Republican Senator BLISTERS Trump For Dem...\n",
            "24188    Trump says U.S. committed to Japan security, i...\n",
            "14337    Catalan separatists win election in rebuke to ...\n",
            "                               ...                        \n",
            "29374    Brazil's Temer to leave hospital, return to Br...\n",
            "37710    GOTCHA! CNN PANELIST Called Out For Lying Abou...\n",
            "19850    Compromise reached on massive U.S. defense bil...\n",
            "7358     Nine killed in fighting between different bran...\n",
            "11503    Italy's 5-Star sheds anti-EU image, calls for ...\n",
            "Name: content, Length: 6735, dtype: object\n"
          ]
        }
      ],
      "source": [
        "print(test_data['content'])"
      ]
    },
    {
      "cell_type": "markdown",
      "metadata": {
        "id": "WZ0F0OYLk6C-"
      },
      "source": [
        "Stremming"
      ]
    },
    {
      "cell_type": "code",
      "execution_count": null,
      "metadata": {
        "id": "Lkcd7jvyjbBx"
      },
      "outputs": [],
      "source": [
        "port_stem = PorterStemmer()"
      ]
    },
    {
      "cell_type": "code",
      "execution_count": null,
      "metadata": {
        "id": "wyuz2a8Slg7j"
      },
      "outputs": [],
      "source": [
        "def stemming(content):\n",
        "    stemmed_content = re.sub('^a-zA-Z', ' ', content)\n",
        "    stemmed_content = stemmed_content.lower()\n",
        "    stemmed_content = stemmed_content.split()\n",
        "    stemmed_content = [port_stem.stem(word) for word in stemmed_content if not word in stopwords.words('english')]\n",
        "    stemmed_content = ' '.join(stemmed_content)\n",
        "    return stemmed_content"
      ]
    },
    {
      "cell_type": "code",
      "execution_count": null,
      "metadata": {
        "id": "5KSvUT_Tli6q"
      },
      "outputs": [],
      "source": [
        "train_data['content'] = train_data['content'].apply(stemming)\n",
        "test_data['content'] = test_data['content'].apply(stemming)"
      ]
    },
    {
      "cell_type": "code",
      "execution_count": null,
      "metadata": {
        "id": "fDHSdYgylmKt",
        "colab": {
          "base_uri": "https://localhost:8080/"
        },
        "outputId": "6d5e60c1-bcc7-4410-8d0b-2229be77e8cb"
      },
      "outputs": [
        {
          "output_type": "stream",
          "name": "stdout",
          "text": [
            "20688    lol! princ countri gave hillari $50 million be...\n",
            "5984     breaking: flag drag protest rush stage trump r...\n",
            "31917    trump’ ‘illeg votes’ lie turn whole recount is...\n",
            "36588    stand ovation! nigel farag troll cnn cpac spee...\n",
            "23273    new russian ambassador u.s. call resum militar...\n",
            "                               ...                        \n",
            "9433     german minist upset fellow conserv muslim holi...\n",
            "3460     u.s. judg reject bid dismiss indonesian immigr...\n",
            "16992    obama’ gal pal loretta lynch won’t recus crook...\n",
            "41610    hungary' opposit socialist lose pm candid ahea...\n",
            "19530    teacher resign caught knock special need stude...\n",
            "Name: content, Length: 31428, dtype: object\n"
          ]
        }
      ],
      "source": [
        "print(train_data['content'])"
      ]
    },
    {
      "cell_type": "code",
      "execution_count": null,
      "metadata": {
        "id": "J5KAGJGFlpWG",
        "colab": {
          "base_uri": "https://localhost:8080/"
        },
        "outputId": "3ef81325-e562-46ca-edbd-e4c610f0c839"
      },
      "outputs": [
        {
          "output_type": "stream",
          "name": "stdout",
          "text": [
            "21911    meet nasti women respons promot hate intoler n...\n",
            "38668    wow! watch side side comparison hillary’ lie n...\n",
            "2633     top republican senat blister trump demand doj ...\n",
            "24188    trump say u.s. commit japan security, chang ca...\n",
            "14337    catalan separatist win elect rebuk spain eu ba...\n",
            "                               ...                        \n",
            "29374    brazil' temer leav hospital, return brasilia b...\n",
            "37710    gotcha! cnn panelist call lie terror attack us...\n",
            "19850    compromis reach massiv u.s. defens bill washin...\n",
            "7358     nine kill fight differ branch somali govern fo...\n",
            "11503    italy' 5-star shed anti-eu image, call reform ...\n",
            "Name: content, Length: 6735, dtype: object\n"
          ]
        }
      ],
      "source": [
        "print(test_data['content'])"
      ]
    },
    {
      "cell_type": "code",
      "execution_count": null,
      "metadata": {
        "id": "4eWi4VcNlqFg"
      },
      "outputs": [],
      "source": [
        "#separating the data and label\n",
        "X = train_data['content'].values\n",
        "Y = train_data['label'].values"
      ]
    },
    {
      "cell_type": "code",
      "execution_count": null,
      "metadata": {
        "id": "K2p0qG-8lshx",
        "colab": {
          "base_uri": "https://localhost:8080/"
        },
        "outputId": "099398bb-9b0f-44cb-c4c3-285c262b438f"
      },
      "outputs": [
        {
          "output_type": "stream",
          "name": "stdout",
          "text": [
            "['lol! princ countri gave hillari $50 million beg american vote trump sound like one best reason ever vote trump saudi princ urg american vote donald trump upcom gener election.turki al-faisal, serv saudia arabia ambassador us 2005 2007, spoke presumpt republican nomine foreign polici dinner washington, dc thursday.h blast trump propos ban muslim enter us, billionair first formul decemb last year renew vow wednesday. life me, cannot believ countri like unit state afford someon presid simpli says, peopl go allow come unit states, turki said accord huffington post. you, me, turki added. hope you, american citizens, make right choic november. plea vote trump come surpris sinc saudi arabia donat $50 million clinton foundationwfb gulf nation repres three largest donor foundation, hardli extent tie clintons. qatari, uae, saudi firm paid bill clinton million dollar speech time hillari serv secretari state, also approv weapon deal three countri worth billion dollar u.s. defens firms, mani also clinton foundat donors.bil clinton prais qatari intelligent, forward look invest partner collabor clinton foundat projects. one hillari top advisers, cheryl mills, serv board new york univers campu abu dhabi. bill clinton friend former classmat saudi princ turki bin faisal al saud, recent attend lavish clinton foundat confer marrakech, host king morocco. bill clinton presidenti librari littl rock fund part $10 million saudi royal family.turk, went georgetown univers washington, dc, current part saudia arabia govern serv chairman king faisal center research islam studies, cultur organ conduct research politics, sociolog heritage. h/t: breitbart news via: daili mail'\n",
            " 'breaking: flag drag protest rush stage trump ralli tie isi report trump protest grab ralli today dayton. click video.trump congratul usss (unit state secret service) twitter: excel job stop maniac run stage trump said tie isis. jail! see tweet here:her video donald post tweet:usss excel job stop maniac run stage. tie isis. jail! https://t.co/tkzbhg7wyd?ssr=tru donald j. trump (@realdonaldtrump) march 12, 2016'\n",
            " 'trump’ ‘illeg votes’ lie turn whole recount issu one long alex jone episod now, seen tweet trump said popular vote landslid million illeg vote taken count. also know trump say damn thing confid possibl recount hope hell overturn elect results. regardless, name profan get idea million illeg vote cast?trump conspiraci theorist. believ peopl like alex jones. alex jone probabl promin person report supposedli illeg vote right now. accord politifact, six day election, infowar publish stori headlin reading: report: 3 million vote presidenti elect cast illeg aliens. rather seriou claim make. alex jones, though, wonder legitim support evid claim pointless. actual got number pair tweet gregg phillips, founder votestand. votestand voter-fraud detect app, say gone 180 million voter registr found 3 million non-citizen rolls:complet analysi databas 180 million voter registrations.numb non-citizen vote exce 3 million.consult legal team. gregg phillip (@jumpvote) novemb 11, 2016we verifi three million vote cast non-citizens.w join .@truethevot initi legal action. #unrig gregg phillip (@jumpvote) novemb 13, 2016sprinkl throughout phillip twitter feed tweet claim got evidence, releas politifact anybodi else. yet, exist tweet app founder paranoid fuck voter fraud enough jones, enough trump. trump loudli proclaim popular vote, obviously.and it. presid like turn next four year giant infowar episode. enough make us want put fist window.featur imag via drew angerer/getti imag'\n",
            " ...\n",
            " \"obama’ gal pal loretta lynch won’t recus crook hillary’ crimin investigation…despit privat meet hillary’ impeach husband reason american expect never expect unbias justic serv eric holder skirt friday msnbc morn joe, bloomberg polit mark halperin cite senior justic depart offici said attorney gener loretta lynch recus investig presumpt democrat presidenti nomine hillari clinton use privat email secretari state. critic call lynch hold privat meet husband former presid bill clinton earlier week.halperin also said sourc anticip lynch admit meet mistake.just @markhalperin: sr. justic dept. offici atty. general' intent along https://t.co/ws9klpxeem morn joe (@morning_joe) juli 1, 2016 senior justic depart offici play anyth new, halperin said. say attorney gener intent along let career peopl decide. quote, recus herself. step asid expect attorney gener say mistak meet bill clinton privat 20 30 minutes. breitbartmeanwhile, washington post report attorney gener loretta e. lynch support recommend prosecutor other lead probe use privat email server hillari clinton time secretari state, justic depart offici said.lynch statement expect later friday gather colorado underscor intens sensit surround fbi justic investig past use exclus email server presumpt democrat presidenti nominee.bi promis abid recommendations, lynch would directli address worri clinton critic other obama administr appointe could ultim overrul investigators.h expect statement reflect appar desir reinforc by-the-book approach clinton case, alreadi play domin role republican attack campaign trail.lynch plan make comment later friday appear washington post editori writer jonathan capehart aspen idea festiv colorado.\"\n",
            " \"hungary' opposit socialist lose pm candid ahead 2018 vote budapest (reuters) - hungarian socialist parti candid prime minist 2018 parliamentari elect resign monday, accus polit mafia undermin leftist parti hope would support him. laszlo botka resign leav left disarray cement right-w prime minist viktor orban favorit win third term april vote. socialist govern hungari three term 1990 2000 tri forg leftist coalit unseat orban rule fidesz party. last week botka, chosen socialist candid january, made offer half dozen parti hammer elector coalition, reject offer. botka said parti fight hard enough replac orban said fidesz infiltr opposition. made mistake, botka wrote statement monday. think democrat parti want seat parliament orban regim victori 2018 ... know much polit mafia infus democrat opposition, includ party. democrat coalit (dk), led former prime minist ferenc gyurcsany, reject botka coalit offer, said: hurt everyon largest parti democrat opposit descend chao like this. (botka) lost support gradually, fail gain new voter alien other fellow opposit parties, said dk spokesman zsolt greczy. momentum movement, enter polit success referendum campaign stop budapest 2024 olymp bid earlier year, said statement kind navel-gaz meant new polit gener needed. peter jakab, spokesman radic nationalist parti jobbik, tone messag effort captur support, told reporters: socialist entir left-w implod today. forc unseat govern jobbik. jobbik offer altern everyon want differ government. includ leftist voters. socialist vice chairman istvan ujhelyi, member european parliament, also resign parti post. orbanistan clearli infiltr opposition, instal peopl nearli potent movements, said. now, seem coup reach goal: democrat forc becom extrem divided. socialist strongest leftist parti opinion poll botka resignation. socialist chairman gyula molnar told news confer parti would continu seek option unseat orban. socialist parti cannot defeat current regime, continu see way cooper forces. includ democrat coalition, said. fidesz, firm lead polls, said statement botka candidatur full scandal demis surpris ... next candid come socialist mould.\"\n",
            " 'teacher resign caught knock special need student floor (video) everi parent worst fear teacher abus child. fear even greater parent like special need children abl tell us teacher like amelia stripl hurt them. fortun sarah patterson, mother 4 year old student tift counti pre-k center tifton, georgia, school camera someon will speak up:accord sarah patterson, mother boy, son turn 4 year old wednesday, day stripl casual walk around open classroom door shove knee boy back without warning, caus lurch forward ground.stripl help boy help anoth adult give shove classroom.it easi see stripl tri get move classroom. also clear complet unconcern rough mildli concern student might hit head ground. whole incid caught tape reported, stripl would almost certainli still work special need kids.her video: walb.com, south georgia news, weather, sportsth unit state stare barrel educ crisi guarante scene like one above. never mind fact concert effort underway gut public education, strip resourc talent give charter school wast billion wors results; even greater emerg rapid rise autist student complet failur school system prepar them.mi famili lucky. live first new york city, take earli intervent special need children serious (the earlier get help, better be). move northern virginia (the liber part turn state purple) also take special need educ seriously. compar southern virginia (the inbr redneck hippi liberal) refus offici diagnos clearli autist nephew told mother bother help learn tie shoelac get velcro sneakers.ther go lot southern virginia northern virginia countri million kid special need move educ system know help them. bare handl alreadi often resort kind abus stripl does. sure, parent money abl afford expens servic kid need even middl class famili unabl cope. work poor? tough luck! fun send kid school staff untrained, uncar both.featur imag via video screen captur']\n"
          ]
        }
      ],
      "source": [
        "print(X)"
      ]
    },
    {
      "cell_type": "code",
      "execution_count": null,
      "metadata": {
        "id": "aLAgpeKymJrK",
        "colab": {
          "base_uri": "https://localhost:8080/"
        },
        "outputId": "c54b4a70-c268-4737-8fa8-7e181d3c15ed"
      },
      "outputs": [
        {
          "output_type": "stream",
          "name": "stdout",
          "text": [
            "['FAKE' 'FAKE' 'FAKE' ... 'FAKE' 'TRUE' 'FAKE']\n"
          ]
        }
      ],
      "source": [
        "print(Y)"
      ]
    },
    {
      "cell_type": "code",
      "execution_count": null,
      "metadata": {
        "id": "bPhX4fo9mLRO",
        "colab": {
          "base_uri": "https://localhost:8080/"
        },
        "outputId": "0863ee9b-453c-48eb-c048-a7f1ee72ac00"
      },
      "outputs": [
        {
          "output_type": "execute_result",
          "data": {
            "text/plain": [
              "(31428,)"
            ]
          },
          "metadata": {},
          "execution_count": 28
        }
      ],
      "source": [
        "Y.shape"
      ]
    },
    {
      "cell_type": "code",
      "execution_count": null,
      "metadata": {
        "id": "4-A_8f88mQZ5"
      },
      "outputs": [],
      "source": [
        "transformer = TfidfTransformer(smooth_idf=False)\n",
        "count_vectorizer = CountVectorizer(ngram_range=(1, 2))\n",
        "counts = count_vectorizer.fit_transform(train_data['content'].values)\n",
        "X = transformer.fit_transform(counts)"
      ]
    },
    {
      "cell_type": "code",
      "execution_count": null,
      "metadata": {
        "id": "iyMQeS3bmRbg"
      },
      "outputs": [],
      "source": [
        "Y = train_data['label'].values\n",
        "test_counts = count_vectorizer.transform(test_data['content'].values)\n",
        "test_tfidf = transformer.transform(test_counts)"
      ]
    },
    {
      "cell_type": "code",
      "execution_count": null,
      "metadata": {
        "id": "E-Yw0xEhmTSi",
        "colab": {
          "base_uri": "https://localhost:8080/"
        },
        "outputId": "f85940f9-b118-4f68-e89a-fb928e37d3ac"
      },
      "outputs": [
        {
          "output_type": "stream",
          "name": "stdout",
          "text": [
            "<Compressed Sparse Row sparse matrix of dtype 'float64'\n",
            "\twith 12792461 stored elements and shape (31428, 3030288)>\n",
            "  Coords\tValues\n",
            "  (0, 3410)\t0.01893713909193526\n",
            "  (0, 4075)\t0.035159368862647394\n",
            "  (0, 23658)\t0.02969344066188877\n",
            "  (0, 23667)\t0.053760537731884314\n",
            "  (0, 24324)\t0.02989133092962238\n",
            "  (0, 24609)\t0.05852085112018335\n",
            "  (0, 60580)\t0.04638114653590592\n",
            "  (0, 60862)\t0.0823194062476426\n",
            "  (0, 81473)\t0.03549812757639657\n",
            "  (0, 81489)\t0.04515286244645084\n",
            "  (0, 87029)\t0.014517345222069492\n",
            "  (0, 88064)\t0.0490731468800539\n",
            "  (0, 109063)\t0.021483109046243516\n",
            "  (0, 109480)\t0.050027163662841906\n",
            "  (0, 123988)\t0.03740394935288842\n",
            "  (0, 124006)\t0.060209599169868185\n",
            "  (0, 128574)\t0.02605623828344473\n",
            "  (0, 128847)\t0.05721095636772261\n",
            "  (0, 153109)\t0.04261384885053431\n",
            "  (0, 153316)\t0.0525825628838082\n",
            "  (0, 153741)\t0.0490731468800539\n",
            "  (0, 165546)\t0.016956054836620396\n",
            "  (0, 165874)\t0.0490731468800539\n",
            "  (0, 172990)\t0.021972182264516606\n",
            "  (0, 173174)\t0.04825271790582307\n",
            "  :\t:\n",
            "  (31427, 2915656)\t0.022676575886599774\n",
            "  (31427, 2915683)\t0.04315227860002636\n",
            "  (31427, 2929161)\t0.026111976798296004\n",
            "  (31427, 2929307)\t0.051236863438595834\n",
            "  (31427, 2931085)\t0.012639955193549563\n",
            "  (31427, 2931565)\t0.03689718991977352\n",
            "  (31427, 2955576)\t0.018284283092997705\n",
            "  (31427, 2955809)\t0.04185423041821658\n",
            "  (31427, 2961462)\t0.018021655032431527\n",
            "  (31427, 2962001)\t0.04627982294015277\n",
            "  (31427, 2972267)\t0.013558949232461986\n",
            "  (31427, 2973714)\t0.04315227860002636\n",
            "  (31427, 2982359)\t0.021122391979910657\n",
            "  (31427, 2984437)\t0.03749969594294547\n",
            "  (31427, 2984956)\t0.03819523810158329\n",
            "  (31427, 2991386)\t0.021360467269564542\n",
            "  (31427, 2991708)\t0.051236863438595834\n",
            "  (31427, 2992538)\t0.019204607007099198\n",
            "  (31427, 2992716)\t0.03872668607809017\n",
            "  (31427, 2993713)\t0.007526499191003126\n",
            "  (31427, 2993861)\t0.034592297346871095\n",
            "  (31427, 3008566)\t0.017337002341095812\n",
            "  (31427, 3011251)\t0.03101455364267953\n",
            "  (31427, 3019517)\t0.013935684725406119\n",
            "  (31427, 3019722)\t0.027046216143337163\n"
          ]
        }
      ],
      "source": [
        "print(X)"
      ]
    },
    {
      "cell_type": "code",
      "execution_count": null,
      "metadata": {
        "id": "58zo5TAImYSE",
        "colab": {
          "base_uri": "https://localhost:8080/"
        },
        "outputId": "15929107-4ecd-4259-b538-4edc92ca71de"
      },
      "outputs": [
        {
          "output_type": "execute_result",
          "data": {
            "text/plain": [
              "(31428, 3030288)"
            ]
          },
          "metadata": {},
          "execution_count": 32
        }
      ],
      "source": [
        "X.shape"
      ]
    },
    {
      "cell_type": "code",
      "execution_count": null,
      "metadata": {
        "id": "kZluRi5-mbIX",
        "colab": {
          "base_uri": "https://localhost:8080/"
        },
        "outputId": "ec508ce6-61fa-4304-9cad-9c7f4c1a8939"
      },
      "outputs": [
        {
          "output_type": "stream",
          "name": "stdout",
          "text": [
            "<Compressed Sparse Row sparse matrix of dtype 'float64'\n",
            "\twith 2305393 stored elements and shape (6735, 3030288)>\n",
            "  Coords\tValues\n",
            "  (0, 6807)\t0.03620306084656072\n",
            "  (0, 6819)\t0.06168902058874092\n",
            "  (0, 6859)\t0.020467860049291377\n",
            "  (0, 7474)\t0.057923467152366355\n",
            "  (0, 23410)\t0.030386415610290388\n",
            "  (0, 23507)\t0.06168902058874092\n",
            "  (0, 183002)\t0.014571627740568178\n",
            "  (0, 183304)\t0.055720759597625555\n",
            "  (0, 203456)\t0.024333401803984456\n",
            "  (0, 203851)\t0.051117775614863865\n",
            "  (0, 235958)\t0.026982871550222567\n",
            "  (0, 236328)\t0.04489679253290388\n",
            "  (0, 244759)\t0.1501150482567525\n",
            "  (0, 244797)\t0.057923467152366355\n",
            "  (0, 244826)\t0.06168902058874092\n",
            "  (0, 244863)\t0.06168902058874092\n",
            "  (0, 244883)\t0.06168902058874092\n",
            "  (0, 244986)\t0.06168902058874092\n",
            "  (0, 246206)\t0.0313360393236044\n",
            "  (0, 246343)\t0.06168902058874092\n",
            "  (0, 280051)\t0.033820613595254706\n",
            "  (0, 280110)\t0.06168902058874092\n",
            "  (0, 280189)\t0.07871302445409215\n",
            "  (0, 280209)\t0.06168902058874092\n",
            "  (0, 280233)\t0.06168902058874092\n",
            "  :\t:\n",
            "  (6734, 2884995)\t0.0175197229041116\n",
            "  (6734, 2886288)\t0.03715254368638159\n",
            "  (6734, 2890032)\t0.01323671801743362\n",
            "  (6734, 2892062)\t0.047735456120402024\n",
            "  (6734, 2903648)\t0.01139288009085274\n",
            "  (6734, 2913428)\t0.011464981063749545\n",
            "  (6734, 2929658)\t0.02228546915009349\n",
            "  (6734, 2939853)\t0.028571523465316395\n",
            "  (6734, 2939954)\t0.056678699845496186\n",
            "  (6734, 2940087)\t0.012847918506165347\n",
            "  (6734, 2942275)\t0.04198206456793969\n",
            "  (6734, 2958002)\t0.03354528732369467\n",
            "  (6734, 2958086)\t0.021114136413817146\n",
            "  (6734, 2963476)\t0.031197180449454756\n",
            "  (6734, 2963818)\t0.04427573717956664\n",
            "  (6734, 2964508)\t0.04198206456793969\n",
            "  (6734, 2971100)\t0.0327413776544477\n",
            "  (6734, 2993713)\t0.008325884137023338\n",
            "  (6734, 2993995)\t0.04061226262721696\n",
            "  (6734, 3005381)\t0.03344929745460767\n",
            "  (6734, 3008566)\t0.019178354918022358\n",
            "  (6734, 3010793)\t0.04125031980913657\n",
            "  (6734, 3011251)\t0.017154295352819204\n",
            "  (6734, 3028629)\t0.023642459826137628\n",
            "  (6734, 3028908)\t0.056678699845496186\n"
          ]
        }
      ],
      "source": [
        "print(test_tfidf)"
      ]
    },
    {
      "cell_type": "code",
      "execution_count": null,
      "metadata": {
        "id": "cLv7KAUYmekq",
        "colab": {
          "base_uri": "https://localhost:8080/"
        },
        "outputId": "7f41e61a-824c-47a3-d6b8-38adf62bdfe0"
      },
      "outputs": [
        {
          "output_type": "execute_result",
          "data": {
            "text/plain": [
              "(6735, 3030288)"
            ]
          },
          "metadata": {},
          "execution_count": 34
        }
      ],
      "source": [
        "test_tfidf.shape"
      ]
    },
    {
      "cell_type": "markdown",
      "metadata": {
        "id": "RlKc9sZ2miY8"
      },
      "source": [
        "Splitting the data into trainind and testing data"
      ]
    },
    {
      "cell_type": "code",
      "execution_count": null,
      "metadata": {
        "id": "QeX7nprwmfDZ"
      },
      "outputs": [],
      "source": [
        "X_train, X_test, Y_train, Y_test = train_test_split(X, Y, test_size = 0.2, stratify=Y, random_state=42)"
      ]
    },
    {
      "cell_type": "code",
      "execution_count": null,
      "metadata": {
        "id": "eit0kCGomt6_",
        "colab": {
          "base_uri": "https://localhost:8080/"
        },
        "outputId": "d895c1b4-86d1-479b-936e-876d9ce9601d"
      },
      "outputs": [
        {
          "output_type": "stream",
          "name": "stdout",
          "text": [
            "Number of Training dataset: 25142\n",
            "Number of Testing dataset: 6286\n"
          ]
        }
      ],
      "source": [
        "print(f\"Number of Training dataset: {X_train.shape[0]}\\nNumber of Testing dataset: {X_test.shape[0]}\")"
      ]
    },
    {
      "cell_type": "code",
      "execution_count": null,
      "metadata": {
        "id": "7_K75ZjNmxyp"
      },
      "outputs": [],
      "source": [
        "def kfolds(model, model_name):\n",
        "    model = cross_val_score(model, X,Y, cv=10)\n",
        "    model_score = np.average(model)\n",
        "    print(f\"{model_name} score on cross validation: {model_score * 100}%\")\n",
        "\n",
        "def train(model, model_name):\n",
        "    model.fit(X_train, Y_train)\n",
        "    model_train_score = model.score(X_train, Y_train)\n",
        "    model_test_score = model.score(X_test, Y_test)\n",
        "    print(f\"{model_name} model score on Training data: {model_train_score * 100}%\\n{model_name} model score on Testing data: {model_test_score * 100}%\")\n",
        "\n",
        "def conf_matrix(model):\n",
        "    Y_pred = model.predict(X_test)\n",
        "    cm = confusion_matrix(Y_test, Y_pred)\n",
        "    plt.figure(figsize=(8,5))\n",
        "    sns.heatmap(cm, annot=True, fmt='.2f');\n",
        "\n",
        "def class_report(model):\n",
        "    Y_pred = model.predict(X_test)\n",
        "    print(classification_report(Y_test, Y_pred))\n",
        "\n",
        "def roc(model, model_name):\n",
        "    Y_pred_svm = model.decision_function(X_test)\n",
        "    svm_fpr, svm_tpr, _ = roc_curve(Y_test, Y_pred_svm)\n",
        "    auc_svm = auc(svm_fpr, svm_tpr)\n",
        "    plt.figure(figsize=(5, 5), dpi=100)\n",
        "    plt.plot(svm_fpr, svm_tpr, color=\"darkorange\", label=f'{model_name} (auc = %0.3f)' % auc_svm)\n",
        "    plt.plot([0, 1], [0, 1], color=\"navy\", lw=2, linestyle=\"--\")\n",
        "    plt.xlabel('False Positive Rate -->')\n",
        "    plt.ylabel('True Positive Rate -->')\n",
        "    plt.legend()\n",
        "    plt.show()"
      ]
    },
    {
      "cell_type": "markdown",
      "metadata": {
        "id": "wtlbGWbfm8MB"
      },
      "source": [
        "Logistic Regression"
      ]
    },
    {
      "cell_type": "code",
      "execution_count": null,
      "metadata": {
        "id": "ilB1xiFum5iw",
        "colab": {
          "base_uri": "https://localhost:8080/"
        },
        "outputId": "82ceb744-074f-4fd2-9ab1-8fa61b04f322"
      },
      "outputs": [
        {
          "output_type": "stream",
          "name": "stdout",
          "text": [
            "Logistic Regression model score on Training data: 99.50680136822847%\n",
            "Logistic Regression model score on Testing data: 98.52052179446389%\n"
          ]
        }
      ],
      "source": [
        "log_model = LogisticRegression()\n",
        "train(log_model, \"Logistic Regression\")"
      ]
    },
    {
      "cell_type": "code",
      "execution_count": null,
      "metadata": {
        "id": "AoOKbFQjnCMH",
        "colab": {
          "base_uri": "https://localhost:8080/",
          "height": 445
        },
        "outputId": "56920d1a-f596-4cdb-b328-ff7e06c833cc"
      },
      "outputs": [
        {
          "output_type": "display_data",
          "data": {
            "text/plain": [
              "<Figure size 800x500 with 2 Axes>"
            ],
            "image/png": "[encoded data removed]"
          },
          "metadata": {}
        }
      ],
      "source": [
        "conf_matrix(log_model)"
      ]
    },
    {
      "cell_type": "code",
      "execution_count": null,
      "metadata": {
        "id": "OvUETqhvnG2l",
        "colab": {
          "base_uri": "https://localhost:8080/"
        },
        "outputId": "370205c4-7712-4ad3-b7c2-c00490cea4a1"
      },
      "outputs": [
        {
          "output_type": "stream",
          "name": "stdout",
          "text": [
            "              precision    recall  f1-score   support\n",
            "\n",
            "        FAKE       0.98      0.99      0.99      3287\n",
            "        TRUE       0.99      0.98      0.98      2999\n",
            "\n",
            "    accuracy                           0.99      6286\n",
            "   macro avg       0.99      0.99      0.99      6286\n",
            "weighted avg       0.99      0.99      0.99      6286\n",
            "\n"
          ]
        }
      ],
      "source": [
        "class_report(log_model)"
      ]
    },
    {
      "cell_type": "code",
      "source": [
        "from sklearn.metrics import roc_curve, auc\n",
        "\n",
        "def roc(model, model_name):\n",
        "    # For models with predict_proba\n",
        "    if hasattr(model, \"predict_proba\"):\n",
        "        y_prob = model.predict_proba(X_test)[:, 1]\n",
        "    elif hasattr(model, \"decision_function\"):\n",
        "        y_prob = model.decision_function(X_test)\n",
        "    else:\n",
        "        raise ValueError(\"Model does not support probability or decision_function\")\n",
        "\n",
        "    # Convert Y_test to binary\n",
        "    y_true_binary = [1 if y == 'TRUE' else 0 for y in Y_test]\n",
        "\n",
        "    # Compute ROC curve\n",
        "    fpr, tpr, _ = roc_curve(y_true_binary, y_prob)\n",
        "    roc_auc = auc(fpr, tpr)\n",
        "\n",
        "    # Plot ROC\n",
        "    plt.figure(figsize=(6, 6))\n",
        "    plt.plot(fpr, tpr, color=\"blue\", lw=2, label=f'{model_name} (AUC = {roc_auc:.2f})')\n",
        "    plt.plot([0, 1], [0, 1], color=\"gray\", linestyle=\"--\")\n",
        "    plt.xlabel('False Positive Rate')\n",
        "    plt.ylabel('True Positive Rate')\n",
        "    plt.title(f'ROC Curve - {model_name}')\n",
        "    plt.legend(loc=\"lower right\")\n",
        "    plt.grid()\n",
        "    plt.show()\n"
      ],
      "metadata": {
        "id": "XxZguh3-H7dm"
      },
      "execution_count": null,
      "outputs": []
    },
    {
      "cell_type": "code",
      "source": [
        "log_model = LogisticRegression()\n",
        "train(log_model, \"Logistic Regression\")\n",
        "roc(log_model, \"Logistic Regression\")"
      ],
      "metadata": {
        "colab": {
          "base_uri": "https://localhost:8080/",
          "height": 600
        },
        "id": "sJ4Sq5UyH-NX",
        "outputId": "4cdc53fd-42d3-458f-f941-8f52cdfe2215"
      },
      "execution_count": null,
      "outputs": [
        {
          "output_type": "stream",
          "name": "stdout",
          "text": [
            "Logistic Regression model score on Training data: 99.50680136822847%\n",
            "Logistic Regression model score on Testing data: 98.52052179446389%\n"
          ]
        },
        {
          "output_type": "display_data",
          "data": {
            "text/plain": [
              "<Figure size 600x600 with 1 Axes>"
            ],
            "image/png": "[encoded data removed]"
          },
          "metadata": {}
        }
      ]
    },
    {
      "cell_type": "markdown",
      "metadata": {
        "id": "TINhHE_dnt1p"
      },
      "source": [
        "SVM Model"
      ]
    },
    {
      "cell_type": "code",
      "source": [
        "from sklearn.svm import LinearSVC\n",
        "svm_model = LinearSVC()\n",
        "train(svm_model, \"Linear SVM\")"
      ],
      "metadata": {
        "colab": {
          "base_uri": "https://localhost:8080/"
        },
        "id": "saCPT7CtISuc",
        "outputId": "a8694f00-48cf-4647-9b6e-5abd1db5f631"
      },
      "execution_count": null,
      "outputs": [
        {
          "output_type": "stream",
          "name": "stdout",
          "text": [
            "Linear SVM model score on Training data: 100.0%\n",
            "Linear SVM model score on Testing data: 99.68183264397072%\n"
          ]
        }
      ]
    },
    {
      "cell_type": "code",
      "execution_count": null,
      "metadata": {
        "id": "a8TxU_sEn1uS",
        "colab": {
          "base_uri": "https://localhost:8080/",
          "height": 445
        },
        "outputId": "61f72f7d-fedd-4f00-d2d4-bf49fea0cb59"
      },
      "outputs": [
        {
          "output_type": "display_data",
          "data": {
            "text/plain": [
              "<Figure size 800x500 with 2 Axes>"
            ],
            "image/png": "[encoded data removed]"
          },
          "metadata": {}
        }
      ],
      "source": [
        "conf_matrix(svm_model)"
      ]
    },
    {
      "cell_type": "code",
      "execution_count": null,
      "metadata": {
        "id": "tcm8iid7n3tH",
        "colab": {
          "base_uri": "https://localhost:8080/"
        },
        "outputId": "075a6837-b108-48ac-bdc2-eb18ec080192"
      },
      "outputs": [
        {
          "output_type": "stream",
          "name": "stdout",
          "text": [
            "              precision    recall  f1-score   support\n",
            "\n",
            "        FAKE       1.00      1.00      1.00      3287\n",
            "        TRUE       1.00      1.00      1.00      2999\n",
            "\n",
            "    accuracy                           1.00      6286\n",
            "   macro avg       1.00      1.00      1.00      6286\n",
            "weighted avg       1.00      1.00      1.00      6286\n",
            "\n"
          ]
        }
      ],
      "source": [
        "class_report(svm_model)"
      ]
    },
    {
      "cell_type": "code",
      "execution_count": null,
      "metadata": {
        "id": "gS9-0o1Jn4Lk",
        "colab": {
          "base_uri": "https://localhost:8080/",
          "height": 564
        },
        "outputId": "6fc62688-51a3-4a9d-89c5-ba3d13c5287b"
      },
      "outputs": [
        {
          "output_type": "display_data",
          "data": {
            "text/plain": [
              "<Figure size 600x600 with 1 Axes>"
            ],
            "image/png": "[encoded data removed]"
          },
          "metadata": {}
        }
      ],
      "source": [
        "roc(svm_model, 'SV_classifier')"
      ]
    },
    {
      "cell_type": "markdown",
      "metadata": {
        "id": "zzLB1Hr0n7am"
      },
      "source": [
        "Decision tree classifier Model"
      ]
    },
    {
      "cell_type": "code",
      "execution_count": null,
      "metadata": {
        "id": "xJ8Ih4jTn5_e",
        "colab": {
          "base_uri": "https://localhost:8080/"
        },
        "outputId": "104c5b7b-35e4-4228-b43d-4cf676535347"
      },
      "outputs": [
        {
          "output_type": "stream",
          "name": "stdout",
          "text": [
            "Decision_Tree score on cross validation: 99.72317617297126%\n",
            "Decision_Tree model score on Training data: 100.0%\n",
            "Decision_Tree model score on Testing data: 99.76137448297806%\n"
          ]
        }
      ],
      "source": [
        "dt_model = DecisionTreeClassifier()\n",
        "kfolds(dt_model, \"Decision_Tree\")\n",
        "train(dt_model, \"Decision_Tree\")"
      ]
    },
    {
      "cell_type": "code",
      "execution_count": null,
      "metadata": {
        "id": "c6ej44tpoDgU",
        "colab": {
          "base_uri": "https://localhost:8080/",
          "height": 445
        },
        "outputId": "950a608d-a456-4002-80c4-1f7d91001fa3"
      },
      "outputs": [
        {
          "output_type": "display_data",
          "data": {
            "text/plain": [
              "<Figure size 800x500 with 2 Axes>"
            ],
            "image/png": "[encoded data removed]"
          },
          "metadata": {}
        }
      ],
      "source": [
        "conf_matrix(dt_model)"
      ]
    },
    {
      "cell_type": "code",
      "execution_count": null,
      "metadata": {
        "id": "p0sK1VpwoFbP",
        "colab": {
          "base_uri": "https://localhost:8080/"
        },
        "outputId": "23870dbf-0c1e-466f-8bad-a7d89e5d581f"
      },
      "outputs": [
        {
          "output_type": "stream",
          "name": "stdout",
          "text": [
            "              precision    recall  f1-score   support\n",
            "\n",
            "        FAKE       1.00      1.00      1.00      3287\n",
            "        TRUE       1.00      1.00      1.00      2999\n",
            "\n",
            "    accuracy                           1.00      6286\n",
            "   macro avg       1.00      1.00      1.00      6286\n",
            "weighted avg       1.00      1.00      1.00      6286\n",
            "\n"
          ]
        }
      ],
      "source": [
        "class_report(dt_model)"
      ]
    },
    {
      "cell_type": "markdown",
      "metadata": {
        "id": "IFPI4y2IoI3z"
      },
      "source": [
        "Random forest classifier"
      ]
    },
    {
      "cell_type": "code",
      "execution_count": null,
      "metadata": {
        "id": "LAVy27znoHXd",
        "colab": {
          "base_uri": "https://localhost:8080/"
        },
        "outputId": "b31dd1d9-8981-490e-91ec-7b877e9c1586"
      },
      "outputs": [
        {
          "output_type": "stream",
          "name": "stdout",
          "text": [
            "Random_Forest model score on Training data: 100.0%\n",
            "Random_Forest model score on Testing data: 98.48870505886096%\n"
          ]
        }
      ],
      "source": [
        "rf_model = RandomForestClassifier()\n",
        "train(rf_model, \"Random_Forest\")"
      ]
    },
    {
      "cell_type": "code",
      "execution_count": null,
      "metadata": {
        "id": "C0gHa6GLoPCW",
        "colab": {
          "base_uri": "https://localhost:8080/",
          "height": 445
        },
        "outputId": "3642b137-4bbd-4a2c-bcef-8e15a0b4d96c"
      },
      "outputs": [
        {
          "output_type": "display_data",
          "data": {
            "text/plain": [
              "<Figure size 800x500 with 2 Axes>"
            ],
            "image/png": "[encoded data removed]"
          },
          "metadata": {}
        }
      ],
      "source": [
        "conf_matrix(rf_model)"
      ]
    },
    {
      "cell_type": "code",
      "execution_count": null,
      "metadata": {
        "id": "DPJJTnNHoSP0",
        "colab": {
          "base_uri": "https://localhost:8080/"
        },
        "outputId": "a2ff092f-16a0-422b-b923-242d1d754591"
      },
      "outputs": [
        {
          "output_type": "stream",
          "name": "stdout",
          "text": [
            "              precision    recall  f1-score   support\n",
            "\n",
            "        FAKE       0.98      0.99      0.99      3287\n",
            "        TRUE       0.99      0.98      0.98      2999\n",
            "\n",
            "    accuracy                           0.98      6286\n",
            "   macro avg       0.98      0.98      0.98      6286\n",
            "weighted avg       0.98      0.98      0.98      6286\n",
            "\n"
          ]
        }
      ],
      "source": [
        "class_report(rf_model)"
      ]
    },
    {
      "cell_type": "markdown",
      "metadata": {
        "id": "Cx0eappioUdv"
      },
      "source": [
        "K-nearest neighbors"
      ]
    },
    {
      "cell_type": "code",
      "execution_count": null,
      "metadata": {
        "id": "zwD7SE5BoSvl",
        "colab": {
          "base_uri": "https://localhost:8080/"
        },
        "outputId": "3802dec5-bf04-4529-dd11-0b80a13264ab"
      },
      "outputs": [
        {
          "output_type": "stream",
          "name": "stdout",
          "text": [
            "KNN model score on Training data: 92.23212154959828%\n",
            "KNN model score on Testing data: 88.62551702195354%\n"
          ]
        }
      ],
      "source": [
        "knn = KNeighborsClassifier()\n",
        "train(knn, \"KNN\")"
      ]
    },
    {
      "cell_type": "code",
      "execution_count": null,
      "metadata": {
        "id": "YrjUAqFgoczF",
        "colab": {
          "base_uri": "https://localhost:8080/",
          "height": 445
        },
        "outputId": "6370a093-43d8-4507-f1af-99904182e667"
      },
      "outputs": [
        {
          "output_type": "display_data",
          "data": {
            "text/plain": [
              "<Figure size 800x500 with 2 Axes>"
            ],
            "image/png": "[encoded data removed]"
          },
          "metadata": {}
        }
      ],
      "source": [
        "conf_matrix(knn)"
      ]
    },
    {
      "cell_type": "code",
      "execution_count": null,
      "metadata": {
        "id": "5GFfBw8ioeq3",
        "colab": {
          "base_uri": "https://localhost:8080/"
        },
        "outputId": "ee829388-ae6e-42d5-b697-dd0ef58ee170"
      },
      "outputs": [
        {
          "output_type": "stream",
          "name": "stdout",
          "text": [
            "              precision    recall  f1-score   support\n",
            "\n",
            "        FAKE       0.93      0.85      0.89      3287\n",
            "        TRUE       0.85      0.93      0.89      2999\n",
            "\n",
            "    accuracy                           0.89      6286\n",
            "   macro avg       0.89      0.89      0.89      6286\n",
            "weighted avg       0.89      0.89      0.89      6286\n",
            "\n"
          ]
        }
      ],
      "source": [
        "class_report(knn)"
      ]
    },
    {
      "cell_type": "markdown",
      "metadata": {
        "id": "EEhkryCCoh1u"
      },
      "source": [
        "Naive Bayes"
      ]
    },
    {
      "cell_type": "code",
      "execution_count": null,
      "metadata": {
        "id": "Lan_xPO-ogtm",
        "colab": {
          "base_uri": "https://localhost:8080/"
        },
        "outputId": "df23c446-a1de-423a-ce47-425c6cb3c138"
      },
      "outputs": [
        {
          "output_type": "stream",
          "name": "stdout",
          "text": [
            "Naive_Bayes score on cross validation: 96.39174624057219%\n",
            "Naive_Bayes model score on Training data: 98.22607588895076%\n",
            "Naive_Bayes model score on Testing data: 96.08654152083996%\n"
          ]
        }
      ],
      "source": [
        "naive_bayes = MultinomialNB()\n",
        "kfolds(naive_bayes, \"Naive_Bayes\")\n",
        "train(naive_bayes, \"Naive_Bayes\")"
      ]
    },
    {
      "cell_type": "code",
      "execution_count": null,
      "metadata": {
        "id": "yS_kG7WDonik",
        "colab": {
          "base_uri": "https://localhost:8080/",
          "height": 445
        },
        "outputId": "17924898-b314-43ec-9f1e-188dcbbab026"
      },
      "outputs": [
        {
          "output_type": "display_data",
          "data": {
            "text/plain": [
              "<Figure size 800x500 with 2 Axes>"
            ],
            "image/png": "[encoded data removed]"
          },
          "metadata": {}
        }
      ],
      "source": [
        "conf_matrix(naive_bayes)"
      ]
    },
    {
      "cell_type": "code",
      "execution_count": null,
      "metadata": {
        "id": "FGhAL-xnosVn",
        "colab": {
          "base_uri": "https://localhost:8080/"
        },
        "outputId": "7d48f100-bcc7-4056-a7b4-5790dae1feaa"
      },
      "outputs": [
        {
          "output_type": "stream",
          "name": "stdout",
          "text": [
            "              precision    recall  f1-score   support\n",
            "\n",
            "        FAKE       0.96      0.97      0.96      3287\n",
            "        TRUE       0.97      0.95      0.96      2999\n",
            "\n",
            "    accuracy                           0.96      6286\n",
            "   macro avg       0.96      0.96      0.96      6286\n",
            "weighted avg       0.96      0.96      0.96      6286\n",
            "\n"
          ]
        }
      ],
      "source": [
        "class_report(naive_bayes)"
      ]
    }
  ],
  "metadata": {
    "colab": {
      "provenance": []
    },
    "kernelspec": {
      "display_name": "Python 3",
      "name": "python3"
    },
    "language_info": {
      "name": "python"
    }
  },
  "nbformat": 4,
  "nbformat_minor": 0
}